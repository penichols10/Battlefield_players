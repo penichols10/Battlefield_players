{
 "cells": [
  {
   "cell_type": "code",
   "execution_count": 27,
   "metadata": {},
   "outputs": [],
   "source": [
    "import requests\n",
    "import time\n",
    "from selenium import webdriver\n",
    "from selenium.webdriver.chrome.options import Options\n",
    "from selenium.webdriver.chrome.service import Service as ChromeService\n",
    "from webdriver_manager.chrome import ChromeDriverManager\n",
    "from bs4 import BeautifulSoup as bs\n",
    "import pandas as pd\n",
    "import numpy as np\n",
    "from tqdm import tqdm"
   ]
  },
  {
   "cell_type": "code",
   "execution_count": 28,
   "metadata": {},
   "outputs": [],
   "source": [
    "options = Options()\n",
    "options.add_argument(\"start-maximized\")\n",
    "driver = webdriver.Chrome(service=ChromeService(ChromeDriverManager().install()), options=options)\n"
   ]
  },
  {
   "cell_type": "code",
   "execution_count": 29,
   "metadata": {},
   "outputs": [],
   "source": [
    "base_url = 'https://battlefieldtracker.com/bfv/leaderboards/stats/all/Wins?type=stats&page=1'\n",
    "\n",
    "driver.get(base_url)\n",
    "\n",
    "# Wait for page to load\n",
    "time.sleep(7)\n",
    "\n",
    "content = driver.page_source.encode('utf-8').strip()\n",
    "soup = bs(content, 'html.parser')"
   ]
  },
  {
   "cell_type": "markdown",
   "metadata": {},
   "source": [
    "Note that this code opened a web browser. Please do not close it, if you plan on following along with the code and executing the cells. The code below automates the browser so data can be scraped from various pages.\n",
    "\n",
    "The HTML here is actually pretty well organized. And represents something like the image below. The difference between the image and the page generally is that the page contains 100 rows.\n",
    "\n",
    "<img src='leaderboard_example.png'>"
   ]
  },
  {
   "cell_type": "markdown",
   "metadata": {},
   "source": [
    "Each player is a row in a table on the page. I want just the body, where the rows are, i.e. I can ignore the thead."
   ]
  },
  {
   "cell_type": "code",
   "execution_count": 30,
   "metadata": {},
   "outputs": [],
   "source": [
    "player_table = soup.find(\"table\",{'class':'trn-table'}).tbody\n",
    "player_rows = player_table.find_all('tr')"
   ]
  },
  {
   "cell_type": "markdown",
   "metadata": {},
   "source": [
    "Each row in the table is itself a table. The rows of each player row proceed horizontally, left to right, as opposed to vertically. They are all named decently, too. There are a number of features to keep here: rank, username, stat highlight (the stat the players are organized by, here, wins) and stat-collapse (here, rounds played.) In addition, the player's platform can be retrieved from the relative path to their profile."
   ]
  },
  {
   "cell_type": "code",
   "execution_count": 31,
   "metadata": {},
   "outputs": [
    {
     "data": {
      "text/plain": [
       "[<td class=\"rank\" data-v-4dbc6408=\"\" data-v-754518f9=\"\"><span data-v-4dbc6408=\"\" data-v-754518f9=\"\" data-v-7a5012a4=\"\">100</span></td>,\n",
       " <td class=\"username\" data-v-4dbc6408=\"\" data-v-754518f9=\"\"><div class=\"text\" data-v-4dbc6408=\"\" data-v-754518f9=\"\"><a class=\"\" data-v-4dbc6408=\"\" data-v-754518f9=\"\" href=\"/bfv/profile/xbl/TightWolf\"><div class=\"avatar\" data-v-4dbc6408=\"\"><img alt=\"TightWolf's Avatar\" class=\"picture\" data-v-4dbc6408=\"\" loading=\"lazy\" src=\"https://imgsvc.trackercdn.com/url/size(32)/https%3A%2F%2Fimages-eds-ssl-ssl.xboxlive.com%2Fimage%3Furl%3DKT_QTPJeC5ZpnbX.xahcbrZ9enA_IV9WfFEWIqHGUb5P30TpCdy9xIzUMuqZVCfbdZLL26ddnKGsETOKJmRbdWb220u73XyNom2XdDEuyB6dU77ty4zFaQxQhVulcL_LGD3VOFkaORqVdn8utqXGw3XeVJ8ksfnDVMejNXSAPro-%26format%3Dpng%26format%3Dpng%26w%3D240%26h%3D240/image.jpg\"/> <!-- --></div> <svg class=\"platform-icon platform-icon platform-xbl\" data-v-4dbc6408=\"\" data-v-b17d31f6=\"\" viewbox=\"0 0 88 88\"><path d=\"M39.73 86.91c-6.628-.635-13.338-3.015-19.102-6.776-4.83-3.15-5.92-4.447-5.92-7.032 0-5.193 5.71-14.29 15.48-24.658 5.547-5.89 13.275-12.79 14.11-12.604 1.626.363 14.616 13.034 19.48 19 7.69 9.43 11.224 17.154 9.428 20.597-1.365 2.617-9.837 7.733-16.06 9.698-5.13 1.62-11.867 2.306-17.416 1.775zM8.184 67.703c-4.014-6.158-6.042-12.22-7.02-20.988-.324-2.895-.21-4.55.733-10.494 1.173-7.4 5.39-15.97 10.46-21.24 2.158-2.24 2.35-2.3 4.982-1.41 3.19 1.08 6.6 3.436 11.89 8.22l3.09 2.794-1.69 2.07c-7.828 9.61-16.09 23.24-19.2 31.67-1.69 4.58-2.37 9.18-1.64 11.095.49 1.294.04.812-1.61-1.714zm70.453 1.047c.397-1.936-.105-5.49-1.28-9.076-2.545-7.765-11.054-22.21-18.867-32.032l-2.46-3.092 2.662-2.443c3.474-3.19 5.886-5.1 8.49-6.723 2.053-1.28 4.988-2.413 6.25-2.413.777 0 3.516 2.85 5.726 5.95 3.424 4.8 5.942 10.63 7.218 16.69.825 3.92.894 12.3.133 16.21-.63 3.208-1.95 7.366-3.23 10.187-.97 2.113-3.36 6.218-4.41 7.554-.54.687-.54.686-.24-.796zM40.44 11.505C36.834 9.675 31.272 7.71 28.2 7.18c-1.076-.185-2.913-.29-4.08-.23-2.536.128-2.423-.004 1.643-1.925 3.38-1.597 6.2-2.536 10.03-3.34C40.098.78 48.193.77 52.43 1.663c4.575.965 9.964 2.97 13 4.84l.904.554-2.07-.104C60.148 6.745 54.15 8.408 47.71 11.54c-1.942.946-3.63 1.7-3.754 1.68-.123-.024-1.706-.795-3.52-1.715z\" data-v-b17d31f6=\"\"></path></svg> <span class=\"trn-ign\" data-v-4dbc6408=\"\" data-v-5e03e686=\"\"><span class=\"trn-ign__username\" data-v-5e03e686=\"\">\n",
       "     TightWolf\n",
       "   </span> <!-- --> <!-- --></span> <!-- --></a> <!-- --> <!-- --> <!-- --></div> <!-- --></td>,\n",
       " <td class=\"collapse\" data-v-4dbc6408=\"\" data-v-754518f9=\"\" width=\"100%\"></td>,\n",
       " <td class=\"stat highlight\" data-v-4dbc6408=\"\" data-v-754518f9=\"\"><!-- -->\n",
       "                 9,953\n",
       "               </td>,\n",
       " <td class=\"stat collapse\" data-v-4dbc6408=\"\" data-v-754518f9=\"\">\n",
       "                   19,693\n",
       "                 </td>]"
      ]
     },
     "execution_count": 31,
     "metadata": {},
     "output_type": "execute_result"
    }
   ],
   "source": [
    "player_data = player_rows[-1].find_all('td')\n",
    "player_data"
   ]
  },
  {
   "cell_type": "code",
   "execution_count": 32,
   "metadata": {},
   "outputs": [
    {
     "data": {
      "text/plain": [
       "'\\n  1\\n'"
      ]
     },
     "execution_count": 32,
     "metadata": {},
     "output_type": "execute_result"
    }
   ],
   "source": [
    "player_rows[0].find_all('td')[0].text"
   ]
  },
  {
   "cell_type": "code",
   "execution_count": 33,
   "metadata": {},
   "outputs": [
    {
     "data": {
      "text/plain": [
       "'https://www.battlefieldtracker.com/bfv/profile/xbl/TightWolf'"
      ]
     },
     "execution_count": 33,
     "metadata": {},
     "output_type": "execute_result"
    }
   ],
   "source": [
    "bftracker_url = 'https://www.battlefieldtracker.com'\n",
    "player_profile = bftracker_url + player_data[1].a['href']\n",
    "player_profile"
   ]
  },
  {
   "cell_type": "code",
   "execution_count": 34,
   "metadata": {},
   "outputs": [
    {
     "name": "stdout",
     "output_type": "stream",
     "text": [
      "{'Rank': [1, 2, 3, 4, 5, 6, 7, 8, 9, 10, 11, 12, 13, 14, 15, 16, 17, 18, 19, 20, 21, 22, 23, 23, 25, 26, 27, 28, 29, 30, 31, 32, 33, 34, 35, 36, 37, 38, 39, 40, 41, 42, 43, 44, 45, 46, 47, 48, 49, 50, 51, 52, 53, 54, 55, 56, 57, 58, 59, 60, 61, 62, 63, 64, 65, 66, 67, 68, 69, 70, 71, 72, 73, 74, 75, 76, 77, 78, 79, 80, 81, 82, 83, 84, 85, 86, 87, 88, 89, 90, 91, 92, 93, 94, 95, 96, 97, 98, 99, 100], 'Username': ['themadbat2', 'lHluslHlKuslHl', 'jawasandcrawler', 'Z1nYoRiTa', 'Arjen10_oOorWhat', 'BoomKapoow', 'D3athD3al3r GR', 'xXhaydar_ayedXx', 'RagePooch', 'MaxiqYT', 'I Mr GoRi I', 'DASE 101', 'MELEE_OVERDRIVE', 'ChosenOne718', 'Frindly-Fire-4', 'EL-mari-ano98', 'xK1nG R3L1Cx', 'Predatory--Grin', 'Tiger766', 'UmairKingz', 'Cyborg JRS', 'TaruShiba_tv', 'Itendtokill', 'xXTrYagAiMXx', 'KRAG_Nerugui', 'XxGtOwNgOoN702xX', 'ViolentGeeks', 'noraneko-tom-3k', 'mugiwara890', 'BillyTheKid3434', 'LUKESCORPION', 'STIG_YY', 'warbonet', 'fares_8086', 'EnergisedKnight', 'DatelessBook58', 'ZigZag07', 'DouYuTv_1427108', 'sishiscrage', 'alexolibaz', 'Wingy117', 'fab50400', 'GUMMY28DUCKS', 'ha-y-nboy16', 'AUT_Zimtstern', 'Keeiiner', 'I 3azinga I', 'BRUNOKONG', 'i_Ortega_', 'LES_3LEUS_8IIIID', 'MrBombastic304', 'Madarada90', 'xXMysterio', 'RBGQ_YAZAN', 'Dy-Lixiaobu', 'beguinho705', 'TROPA_MALVADA_', 'convio', 'sanxezcuartillo', 'AnarchyBOY247', 'JyggeSaa', 'Xx7_AlexFrazao_x', 'tomili2000', 'iTz Ahh Dream', 'CQC_Q8', 'HewyX', 'FFGS67', 'OPTIMUS-GOLD', 'Ras Kuvz', 'Bullschit12', 'STICK TRAPT', 'ReservoirDog276', 'xCahoOts', 'BadBoy-NK', 'hoenni01', 'Darret_', 'BoserBube1', 'xosmin', 'GonXStoneXFlip', 'TheBluHipsterAJ', 'fh33sa', 'Ph3NomEn4', 'StopCodon', 'PontazMonalisa', 'elcochinote72', 'CHIMPURRI', 'PharaoahMonk', 'Bitcooin2019', 'ThatBoyCold____', 'Kar98k_GR', 'Capitan_bravo689', 'Mack-Mac-o-JP', 'SevenStars_777-H', 'Predicadora', 'rera_xyl', 'xCRAZY_SURGEONx', 'Skunnuck', 'dark_throne957', 'WebWire', 'TightWolf'], 'Platform': ['psn', 'psn', 'psn', 'origin', 'psn', 'xbl', 'xbl', 'psn', 'origin', 'psn', 'xbl', 'xbl', 'psn', 'xbl', 'origin', 'psn', 'xbl', 'psn', 'origin', 'origin', 'xbl', 'psn', 'psn', 'psn', 'origin', 'psn', 'origin', 'psn', 'psn', 'xbl', 'psn', 'origin', 'xbl', 'psn', 'xbl', 'xbl', 'psn', 'origin', 'psn', 'xbl', 'xbl', 'xbl', 'xbl', 'psn', 'origin', 'origin', 'xbl', 'psn', 'psn', 'psn', 'psn', 'xbl', 'origin', 'psn', 'origin', 'origin', 'psn', 'origin', 'xbl', 'xbl', 'psn', 'psn', 'origin', 'xbl', 'psn', 'origin', 'origin', 'origin', 'xbl', 'origin', 'xbl', 'xbl', 'psn', 'psn', 'origin', 'psn', 'xbl', 'origin', 'xbl', 'origin', 'psn', 'xbl', 'psn', 'psn', 'psn', 'xbl', 'origin', 'origin', 'psn', 'origin', 'psn', 'origin', 'psn', 'xbl', 'psn', 'psn', 'xbl', 'psn', 'psn', 'xbl'], 'Wins': [20538, 17698, 17505, 16952, 16384, 16249, 16239, 15714, 15661, 15083, 14407, 14331, 13845, 13757, 13663, 13582, 13512, 12970, 12876, 12863, 12790, 12734, 12551, 12551, 12527, 12519, 12393, 12323, 12319, 12238, 12192, 12188, 12179, 12121, 12105, 11978, 11959, 11889, 11877, 11846, 11835, 11703, 11691, 11592, 11583, 11579, 11457, 11455, 11405, 11375, 11358, 11330, 11239, 11222, 11206, 11182, 11169, 11152, 11140, 11044, 11040, 10952, 10905, 10878, 10857, 10806, 10740, 10723, 10681, 10640, 10606, 10581, 10528, 10518, 10507, 10478, 10459, 10423, 10418, 10388, 10349, 10323, 10316, 10234, 10223, 10219, 10213, 10186, 10177, 10119, 10117, 10115, 10036, 9996, 9976, 9973, 9970, 9968, 9959, 9953], 'Rounds Played': [27885, 19754, 29884, 22590, 23182, 25092, 20601, 19267, 19782, 18464, 18009, 15555, 19835, 17529, 18114, 26808, 22368, 23381, 25246, 18593, 12965, 15849, 17021, 17300, 14212, 16562, 17296, 20516, 14133, 16754, 14756, 14397, 18453, 22789, 16320, 24664, 18088, 14430, 14748, 16628, 18016, 16125, 12327, 20275, 14427, 14264, 14417, 14935, 16404, 17622, 14341, 11683, 13376, 15658, 13477, 14822, 14569, 18582, 15994, 13343, 14236, 17938, 18063, 14264, 19217, 16333, 18225, 15763, 13002, 13237, 11427, 18249, 12989, 14616, 17537, 16893, 18055, 12092, 16813, 17333, 14377, 15432, 20266, 13792, 15192, 12933, 12740, 15338, 16488, 14282, 14731, 15671, 14722, 14003, 11748, 14059, 16404, 15352, 16503, 19693], 'Profile': ['https://www.battlefieldtracker.com/bfv/profile/psn/themadbat2', 'https://www.battlefieldtracker.com/bfv/profile/psn/lHluslHlKuslHl', 'https://www.battlefieldtracker.com/bfv/profile/psn/jawasandcrawler', 'https://www.battlefieldtracker.com/bfv/profile/origin/Z1nYoRiTa', 'https://www.battlefieldtracker.com/bfv/profile/psn/Arjen10_oOorWhat', 'https://www.battlefieldtracker.com/bfv/profile/xbl/BoomKapoow', 'https://www.battlefieldtracker.com/bfv/profile/xbl/D3athD3al3r%20GR', 'https://www.battlefieldtracker.com/bfv/profile/psn/xXhaydar_ayedXx', 'https://www.battlefieldtracker.com/bfv/profile/origin/RagePooch', 'https://www.battlefieldtracker.com/bfv/profile/psn/MaxiqYT', 'https://www.battlefieldtracker.com/bfv/profile/xbl/I%20Mr%20GoRi%20I', 'https://www.battlefieldtracker.com/bfv/profile/xbl/DASE%20101', 'https://www.battlefieldtracker.com/bfv/profile/psn/MELEE_OVERDRIVE', 'https://www.battlefieldtracker.com/bfv/profile/xbl/ChosenOne718', 'https://www.battlefieldtracker.com/bfv/profile/origin/Frindly-Fire-4', 'https://www.battlefieldtracker.com/bfv/profile/psn/EL-mari-ano98', 'https://www.battlefieldtracker.com/bfv/profile/xbl/xK1nG%20R3L1Cx', 'https://www.battlefieldtracker.com/bfv/profile/psn/Predatory--Grin', 'https://www.battlefieldtracker.com/bfv/profile/origin/Tiger766', 'https://www.battlefieldtracker.com/bfv/profile/origin/UmairKingz', 'https://www.battlefieldtracker.com/bfv/profile/xbl/Cyborg%20JRS', 'https://www.battlefieldtracker.com/bfv/profile/psn/TaruShiba_tv', 'https://www.battlefieldtracker.com/bfv/profile/psn/Itendtokill', 'https://www.battlefieldtracker.com/bfv/profile/psn/xXTrYagAiMXx', 'https://www.battlefieldtracker.com/bfv/profile/origin/KRAG_Nerugui', 'https://www.battlefieldtracker.com/bfv/profile/psn/XxGtOwNgOoN702xX', 'https://www.battlefieldtracker.com/bfv/profile/origin/ViolentGeeks', 'https://www.battlefieldtracker.com/bfv/profile/psn/noraneko-tom-3k', 'https://www.battlefieldtracker.com/bfv/profile/psn/mugiwara890', 'https://www.battlefieldtracker.com/bfv/profile/xbl/BillyTheKid3434', 'https://www.battlefieldtracker.com/bfv/profile/psn/LUKESCORPION', 'https://www.battlefieldtracker.com/bfv/profile/origin/STIG_YY', 'https://www.battlefieldtracker.com/bfv/profile/xbl/warbonet', 'https://www.battlefieldtracker.com/bfv/profile/psn/fares_8086', 'https://www.battlefieldtracker.com/bfv/profile/xbl/EnergisedKnight', 'https://www.battlefieldtracker.com/bfv/profile/xbl/DatelessBook58', 'https://www.battlefieldtracker.com/bfv/profile/psn/ZigZag07', 'https://www.battlefieldtracker.com/bfv/profile/origin/DouYuTv_1427108', 'https://www.battlefieldtracker.com/bfv/profile/psn/sishiscrage', 'https://www.battlefieldtracker.com/bfv/profile/xbl/alexolibaz', 'https://www.battlefieldtracker.com/bfv/profile/xbl/Wingy117', 'https://www.battlefieldtracker.com/bfv/profile/xbl/fab50400', 'https://www.battlefieldtracker.com/bfv/profile/xbl/GUMMY28DUCKS', 'https://www.battlefieldtracker.com/bfv/profile/psn/ha-y-nboy16', 'https://www.battlefieldtracker.com/bfv/profile/origin/AUT_Zimtstern', 'https://www.battlefieldtracker.com/bfv/profile/origin/Keeiiner', 'https://www.battlefieldtracker.com/bfv/profile/xbl/I%203azinga%20I', 'https://www.battlefieldtracker.com/bfv/profile/psn/BRUNOKONG', 'https://www.battlefieldtracker.com/bfv/profile/psn/i_Ortega_', 'https://www.battlefieldtracker.com/bfv/profile/psn/LES_3LEUS_8IIIID', 'https://www.battlefieldtracker.com/bfv/profile/psn/MrBombastic304', 'https://www.battlefieldtracker.com/bfv/profile/xbl/Madarada90', 'https://www.battlefieldtracker.com/bfv/profile/origin/xXMysterio', 'https://www.battlefieldtracker.com/bfv/profile/psn/RBGQ_YAZAN', 'https://www.battlefieldtracker.com/bfv/profile/origin/Dy-Lixiaobu', 'https://www.battlefieldtracker.com/bfv/profile/origin/beguinho705', 'https://www.battlefieldtracker.com/bfv/profile/psn/TROPA_MALVADA_', 'https://www.battlefieldtracker.com/bfv/profile/origin/convio', 'https://www.battlefieldtracker.com/bfv/profile/xbl/sanxezcuartillo', 'https://www.battlefieldtracker.com/bfv/profile/xbl/AnarchyBOY247', 'https://www.battlefieldtracker.com/bfv/profile/psn/JyggeSaa', 'https://www.battlefieldtracker.com/bfv/profile/psn/Xx7_AlexFrazao_x', 'https://www.battlefieldtracker.com/bfv/profile/origin/tomili2000', 'https://www.battlefieldtracker.com/bfv/profile/xbl/iTz%20Ahh%20Dream', 'https://www.battlefieldtracker.com/bfv/profile/psn/CQC_Q8', 'https://www.battlefieldtracker.com/bfv/profile/origin/HewyX', 'https://www.battlefieldtracker.com/bfv/profile/origin/FFGS67', 'https://www.battlefieldtracker.com/bfv/profile/origin/OPTIMUS-GOLD', 'https://www.battlefieldtracker.com/bfv/profile/xbl/Ras%20Kuvz', 'https://www.battlefieldtracker.com/bfv/profile/origin/Bullschit12', 'https://www.battlefieldtracker.com/bfv/profile/xbl/STICK%20TRAPT', 'https://www.battlefieldtracker.com/bfv/profile/xbl/ReservoirDog276', 'https://www.battlefieldtracker.com/bfv/profile/psn/xCahoOts', 'https://www.battlefieldtracker.com/bfv/profile/psn/BadBoy-NK', 'https://www.battlefieldtracker.com/bfv/profile/origin/hoenni01', 'https://www.battlefieldtracker.com/bfv/profile/psn/Darret_', 'https://www.battlefieldtracker.com/bfv/profile/xbl/BoserBube1', 'https://www.battlefieldtracker.com/bfv/profile/origin/xosmin', 'https://www.battlefieldtracker.com/bfv/profile/xbl/GonXStoneXFlip', 'https://www.battlefieldtracker.com/bfv/profile/origin/TheBluHipsterAJ', 'https://www.battlefieldtracker.com/bfv/profile/psn/fh33sa', 'https://www.battlefieldtracker.com/bfv/profile/xbl/Ph3NomEn4', 'https://www.battlefieldtracker.com/bfv/profile/psn/StopCodon', 'https://www.battlefieldtracker.com/bfv/profile/psn/PontazMonalisa', 'https://www.battlefieldtracker.com/bfv/profile/psn/elcochinote72', 'https://www.battlefieldtracker.com/bfv/profile/xbl/CHIMPURRI', 'https://www.battlefieldtracker.com/bfv/profile/origin/PharaoahMonk', 'https://www.battlefieldtracker.com/bfv/profile/origin/Bitcooin2019', 'https://www.battlefieldtracker.com/bfv/profile/psn/ThatBoyCold____', 'https://www.battlefieldtracker.com/bfv/profile/origin/Kar98k_GR', 'https://www.battlefieldtracker.com/bfv/profile/psn/Capitan_bravo689', 'https://www.battlefieldtracker.com/bfv/profile/origin/Mack-Mac-o-JP', 'https://www.battlefieldtracker.com/bfv/profile/psn/SevenStars_777-H', 'https://www.battlefieldtracker.com/bfv/profile/xbl/Predicadora', 'https://www.battlefieldtracker.com/bfv/profile/psn/rera_xyl', 'https://www.battlefieldtracker.com/bfv/profile/psn/xCRAZY_SURGEONx', 'https://www.battlefieldtracker.com/bfv/profile/xbl/Skunnuck', 'https://www.battlefieldtracker.com/bfv/profile/psn/dark_throne957', 'https://www.battlefieldtracker.com/bfv/profile/psn/WebWire', 'https://www.battlefieldtracker.com/bfv/profile/xbl/TightWolf']}\n"
     ]
    }
   ],
   "source": [
    "bftracker_url = 'https://www.battlefieldtracker.com'\n",
    "stat_dict = {'Rank': [], 'Username':[], 'Platform':[], 'Wins':[], 'Rounds Played':[], 'Profile':[]}\n",
    "\n",
    "def parse_player_row(player_data, stat_dict):\n",
    "    # Identify and store features\n",
    "    player_rank = int(player_data[0].text.strip())\n",
    "    player_username = player_data[1].find('span', {'class':'trn-ign__username'}).text.strip()\n",
    "    player_platform = player_data[1].a['href'].split('/')[-2]\n",
    "    player_wins = int(player_data[-2].text.strip().replace(',', ''))\n",
    "    player_rounds_played =  int(player_data[-1].text.strip().replace(',', ''))\n",
    "    player_profile = bftracker_url + player_data[1].a['href']\n",
    "    \n",
    "    # Add features to dictionary\n",
    "    stat_dict['Rank'].append(player_rank)\n",
    "    stat_dict['Username'].append(player_username)\n",
    "    stat_dict['Platform'].append(player_platform)\n",
    "    stat_dict['Wins'].append(player_wins)\n",
    "    stat_dict['Rounds Played'].append(player_rounds_played)\n",
    "    stat_dict['Profile'].append(player_profile)\n",
    "    return stat_dict\n",
    "\n",
    "def parse_player_rows(player_rows, stat_dict):\n",
    "    for i,row in enumerate(player_rows):\n",
    "        player_data = row.find_all('td')\n",
    "        stat_dict = parse_player_row(player_data, stat_dict)\n",
    "    return stat_dict\n",
    "stat_dict = parse_player_rows(player_rows, stat_dict) \n",
    "print(stat_dict)"
   ]
  },
  {
   "cell_type": "code",
   "execution_count": 35,
   "metadata": {},
   "outputs": [],
   "source": [
    "profiles = stat_dict['Profile']\n",
    "req = requests.get('https://battlefieldtracker.com/bfv/profile/psn/themadbat2/overview').content\n",
    "soup2 = bs(req)"
   ]
  },
  {
   "cell_type": "code",
   "execution_count": 36,
   "metadata": {},
   "outputs": [],
   "source": [
    "driver.get(profiles[0])\n",
    "\n",
    "# Wait for page to load\n",
    "time.sleep(5)\n",
    "\n",
    "content = driver.page_source.encode('utf-8').strip()\n",
    "ex_profile_soup = bs(content, 'html.parser') # an example profile"
   ]
  },
  {
   "cell_type": "markdown",
   "metadata": {},
   "source": [
    "There are a lot of player stats on each profile page, both overall and broken down by class. The easiest way toget these is using css selectors, for the most part. Note that here, as with class specific stats, I have no interest in whether the player was in the top X% of the category. The part of the page I am processing now looks like this:\n",
    "\n",
    "<img src='lifetime_stats.png'>"
   ]
  },
  {
   "cell_type": "code",
   "execution_count": 37,
   "metadata": {},
   "outputs": [
    {
     "name": "stdout",
     "output_type": "stream",
     "text": [
      "Results from example profile\n",
      "['6,614h', 'Play', 'Time']\n"
     ]
    },
    {
     "data": {
      "text/plain": [
       "{'lifetime_hours': [6614.0],\n",
       " 'Score/Min': [378.97],\n",
       " 'K/D': [2.62],\n",
       " 'Kills': [508165.0],\n",
       " 'Kills/Min': [1.28],\n",
       " 'Win %': [72.6],\n",
       " 'Wins': [20538.0],\n",
       " 'Deaths': [194116.0],\n",
       " 'Assists': [104553.0],\n",
       " 'Damage': [58636178.0],\n",
       " 'Heals': [2288101.0],\n",
       " 'Revives': [156255.0],\n",
       " 'Resupplies': [168974.0]}"
      ]
     },
     "execution_count": 37,
     "metadata": {},
     "output_type": "execute_result"
    }
   ],
   "source": [
    "def get_player_lifetime_stats(profile_soup, stat_dict):\n",
    "    # Collect lifetime stats for a player\n",
    "    # Get lifetime hours played across all classes\n",
    "    print(profile_soup.select('span.playtime')[0].text.strip().split(' '))\n",
    "    lifetime_hours = float(profile_soup.select('span.playtime')[0].text.strip().split(' ')[0][:-1].replace(',', ''))\n",
    "    if 'lifetime_hours' in stat_dict:\n",
    "            stat_dict['lifetime_hours'].append(lifetime_hours)\n",
    "    else:\n",
    "        stat_dict['lifetime_hours'] = [lifetime_hours]\n",
    "\n",
    "    # Identify the divs with the lifetime stats\n",
    "    overall_stat_table = profile_soup.select('div.main')[0]\n",
    "    stat_names_values = overall_stat_table.select('div.numbers > span')\n",
    "    stat_names_values[0]['class']\n",
    "\n",
    "    # Loop to collect stats\n",
    "    i = 0\n",
    "    while i < len(stat_names_values):\n",
    "        stat_name = stat_names_values[i].text\n",
    "        stat_value = float(stat_names_values[i+1].text.replace(',', '').replace('%', '').strip())\n",
    "        if stat_name in stat_dict:\n",
    "            stat_dict[stat_name].append(stat_value)\n",
    "        else:\n",
    "            stat_dict[stat_name] = [stat_value]\n",
    "        i += 2\n",
    "\n",
    "    return stat_dict\n",
    "\n",
    "print('Results from example profile')\n",
    "get_player_lifetime_stats(ex_profile_soup, {})"
   ]
  },
  {
   "cell_type": "markdown",
   "metadata": {},
   "source": [
    "Next, I collect the stats for each player broken out by class, as well as by vehicle use. That is in a table like the below. The HTML organizing this information is a bit less readable, but there fortunately only two actual HTML tables on the page, and the former contains the desired data. Each row of the table consists of several table data elements. Each of those table data elements has a span with class name \"name,\" which contains the values I want to retrieve. I define a list of stat categories I want to retrieve manually. Then for each class, I add the name of the class under consideration to the stat name, ex. medic_score.\n",
    "\n",
    "<img src='class_stats.png'>"
   ]
  },
  {
   "cell_type": "code",
   "execution_count": 38,
   "metadata": {},
   "outputs": [],
   "source": [
    "stat_categories = ['Score', 'Score/Min', 'Kills', 'Kills/Min', 'K/D']\n",
    "class_stat_table = ex_profile_soup.find_all('tbody')[0].find_all('tr') # each element here is a row in the table pictured above"
   ]
  },
  {
   "cell_type": "markdown",
   "metadata": {},
   "source": [
    "Below is an example row"
   ]
  },
  {
   "cell_type": "code",
   "execution_count": 39,
   "metadata": {},
   "outputs": [
    {
     "name": "stdout",
     "output_type": "stream",
     "text": [
      "{'Medic_hours': [3748.0], 'Medic_Score': ['89795488'], 'Medic_Score/Min': ['399.25'], 'Medic_Kills': ['335041'], 'Medic_Kills/Min': ['1.49'], 'Medic_K/D': ['2.70']}\n"
     ]
    }
   ],
   "source": [
    "class_row = class_stat_table[0].find_all('td')\n",
    "class_name = class_row[0].select('span.name')[0].text # get the name of the class the row represents\n",
    "class_hours = float(class_row[0].select('span.sub')[0].text[:-1].replace(',', ''))\n",
    "stat_dict = {} # Reset stat dict to limit output\n",
    "# add class time played to stat dictionary\n",
    "if f'{class_name}_hours' in stat_dict:\n",
    "        stat_dict[f'{class_name}_hours'].append(class_hours)\n",
    "else:\n",
    "    stat_dict[f'{class_name}_hours'] = [class_hours]\n",
    "\n",
    "# get the stats\n",
    "for i, td in enumerate(class_row[2:]):\n",
    "    stat_name = f'{class_name}_{stat_categories[i]}'\n",
    "    class_stat = td.select('span.name')[0].text.replace(',', '')\n",
    "    if stat_name in stat_dict:\n",
    "        stat_dict[stat_name].append(class_stat)\n",
    "    else:\n",
    "        stat_dict[stat_name] = [class_stat]\n",
    "\n",
    "print(stat_dict)"
   ]
  },
  {
   "cell_type": "markdown",
   "metadata": {},
   "source": [
    "We can see from the above that this adds the class specific stats from the row. All that is left to do for the player profile is to loop over the other classes as well. I clear the dictionary of stats to make it a bit more readable."
   ]
  },
  {
   "cell_type": "code",
   "execution_count": 40,
   "metadata": {},
   "outputs": [
    {
     "data": {
      "text/plain": [
       "{'Medic_hours': ['3748'],\n",
       " 'Medic_Score': ['89795488'],\n",
       " 'Medic_Score/Min': ['399.25'],\n",
       " 'Medic_Kills': ['335041'],\n",
       " 'Medic_Kills/Min': ['1.49'],\n",
       " 'Medic_K/D': ['2.70'],\n",
       " 'Recon_hours': ['1223'],\n",
       " 'Recon_Score': ['28043764'],\n",
       " 'Recon_Score/Min': ['382.16'],\n",
       " 'Recon_Kills': ['92421'],\n",
       " 'Recon_Kills/Min': ['1.26'],\n",
       " 'Recon_K/D': ['2.55'],\n",
       " 'Assault_hours': ['1023'],\n",
       " 'Assault_Score': ['20594554'],\n",
       " 'Assault_Score/Min': ['335.31'],\n",
       " 'Assault_Kills': ['47079'],\n",
       " 'Assault_Kills/Min': ['0.77'],\n",
       " 'Assault_K/D': ['2.47'],\n",
       " 'Support_hours': ['550'],\n",
       " 'Support_Score': ['9516912'],\n",
       " 'Support_Score/Min': ['288.08'],\n",
       " 'Support_Kills': ['30079'],\n",
       " 'Support_Kills/Min': ['0.91'],\n",
       " 'Support_K/D': ['2.46'],\n",
       " 'Tanker_hours': ['36'],\n",
       " 'Tanker_Score': ['1774991'],\n",
       " 'Tanker_Score/Min': ['813.47'],\n",
       " 'Tanker_Kills': ['4388'],\n",
       " 'Tanker_Kills/Min': ['2.01'],\n",
       " 'Tanker_K/D': ['0.00'],\n",
       " 'Pilot_hours': ['32'],\n",
       " 'Pilot_Score': ['344479'],\n",
       " 'Pilot_Score/Min': ['176.11'],\n",
       " 'Pilot_Kills': ['634'],\n",
       " 'Pilot_Kills/Min': ['0.32'],\n",
       " 'Pilot_K/D': ['0.00']}"
      ]
     },
     "execution_count": 40,
     "metadata": {},
     "output_type": "execute_result"
    }
   ],
   "source": [
    "def get_player_class_stats(profile_soup, stat_dict):\n",
    "    stat_categories = ['Score', 'Score/Min', 'Kills', 'Kills/Min', 'K/D']\n",
    "    class_stat_table = profile_soup.find_all('tbody')[0].find_all('tr') # each element here is a row in the table pictured above\n",
    "    class_row = class_stat_table[0].find_all('td')\n",
    "    for row in class_stat_table:\n",
    "        class_row = row.find_all('td')\n",
    "        class_name = class_row[0].select('span.name')[0].text # get the name of the class the row represents\n",
    "        \n",
    "        # add class time played to stat dictionary\n",
    "        class_hours = class_row[0].select('span.sub')[0].text\n",
    "        time_split = class_hours.split(' ')\n",
    "        if len(time_split) > 1:\n",
    "            class_hours = time_split\n",
    "            # if time played in XXh YYm format\n",
    "            if 'h' in class_hours[0]:\n",
    "                class_hours = float(class_hours[0][:-1]) * 60 + float(class_hours[1][:-1])\n",
    "                class_hours /= 60\n",
    "            # if time played in XXm YYs format\n",
    "            elif 'm' in class_hours[0]:\n",
    "                class_hours = float(class_hours[0][:-1]) + float(class_hours[1][:-1])/60\n",
    "                class_hours /= 60\n",
    "        else:\n",
    "            class_hours = class_hours[:-1].replace(',', '')\n",
    "        \n",
    "                \n",
    "        if f'{class_name}_hours' in stat_dict:\n",
    "                stat_dict[f'{class_name}_hours'].append(class_hours)\n",
    "        else:\n",
    "            stat_dict[f'{class_name}_hours'] = [class_hours]\n",
    "\n",
    "        # get the stats\n",
    "        for i, td in enumerate(class_row[2:]):\n",
    "            stat_name = f'{class_name}_{stat_categories[i]}'\n",
    "            class_stat = td.select('span.name')[0].text.replace(',', '')\n",
    "            if stat_name in stat_dict:\n",
    "                stat_dict[stat_name].append(class_stat)\n",
    "            else:\n",
    "                stat_dict[stat_name] = [class_stat]\n",
    "    return stat_dict\n",
    "\n",
    "get_player_class_stats(ex_profile_soup, {})"
   ]
  },
  {
   "cell_type": "markdown",
   "metadata": {},
   "source": [
    "The next step is to do this for all of the players on a results page. An effective way to do this limits the number of times I have to send requests to the server. First, I load a leaderboard page. From this page, I get all of the profiles for the players on the page. Then I go to each profile and collect data from the profile. Conveniently, code for each part of this task has already been written."
   ]
  },
  {
   "cell_type": "markdown",
   "metadata": {},
   "source": [
    "### Parsing a single leaderboard page's information"
   ]
  },
  {
   "cell_type": "code",
   "execution_count": 41,
   "metadata": {},
   "outputs": [],
   "source": [
    "def get_leaderboard_page(leaderboard_url):\n",
    "    '''\n",
    "    Takes a link to a leaderboard page, loads it in the browser and returns the HTML for information loaded on the page in a format that is easy to parse\n",
    "    '''\n",
    "    driver.get(leaderboard_url)\n",
    "\n",
    "    # Wait for page to load\n",
    "    time.sleep(7)\n",
    "\n",
    "    content = driver.page_source.encode('utf-8').strip()\n",
    "    leaderboard_soup = bs(content, 'html.parser')\n",
    "    return soup\n",
    "\n",
    "def parse_leaderboard_page(leaderboard_url, stat_dict):\n",
    "    # Load the leaderboard page\n",
    "    leaderboard_soup = get_leaderboard_page(leaderboard_url)\n",
    "\n",
    "    # Get the rows on the page, each representing basic information about a player\n",
    "    player_table = soup.find(\"table\",{'class':'trn-table'}).tbody\n",
    "    player_rows = player_table.find_all('tr')\n",
    "\n",
    "    stat_dict = parse_player_rows(player_rows, stat_dict)\n",
    "\n",
    "    return stat_dict\n",
    "\n"
   ]
  },
  {
   "cell_type": "markdown",
   "metadata": {},
   "source": [
    "### Parsing the Profiles"
   ]
  },
  {
   "cell_type": "code",
   "execution_count": 42,
   "metadata": {},
   "outputs": [
    {
     "data": {
      "text/plain": [
       "dict_keys(['Medic_hours', 'Medic_Score', 'Medic_Score/Min', 'Medic_Kills', 'Medic_Kills/Min', 'Medic_K/D'])"
      ]
     },
     "execution_count": 42,
     "metadata": {},
     "output_type": "execute_result"
    }
   ],
   "source": [
    "stat_dict.keys()"
   ]
  },
  {
   "cell_type": "code",
   "execution_count": 43,
   "metadata": {},
   "outputs": [],
   "source": [
    "def get_profile_page(profile_url):\n",
    "    '''\n",
    "    Takes a link to a profile page, loads it in the browser and returns the HTML for information loaded on the page in a format that is easy to parse\n",
    "    '''\n",
    "    driver.get(profile_url)\n",
    "\n",
    "    # Wait for page to load\n",
    "    time.sleep(5)\n",
    "\n",
    "    content = driver.page_source.encode('utf-8').strip()\n",
    "    profile_soup = bs(content, 'html.parser')\n",
    "\n",
    "    return profile_soup\n",
    "\n",
    "def parse_profiles(stat_dict):\n",
    "    '''\n",
    "    For each profile on a leaderboard page, add data from the profile to the stat_dict\n",
    "    '''\n",
    "    profiles = stat_dict['Profile']\n",
    "    for profile_url in tqdm(profiles):\n",
    "        profile_soup = get_profile_page(profile_url)\n",
    "\n",
    "        # Get the player's overall stats\n",
    "        stat_dict = get_player_lifetime_stats(profile_soup, stat_dict)\n",
    "\n",
    "        # Get the player's class stats\n",
    "        stat_dict = get_player_class_stats(profile_soup, stat_dict)\n",
    "\n",
    "        time.sleep(5)\n",
    "    return stat_dict"
   ]
  },
  {
   "cell_type": "markdown",
   "metadata": {},
   "source": [
    "### Parse Leaderboard Page and Associated Profiles"
   ]
  },
  {
   "cell_type": "code",
   "execution_count": 44,
   "metadata": {},
   "outputs": [
    {
     "name": "stderr",
     "output_type": "stream",
     "text": [
      "  0%|          | 0/100 [00:00<?, ?it/s]"
     ]
    },
    {
     "name": "stdout",
     "output_type": "stream",
     "text": [
      "['6,614h', 'Play', 'Time']\n"
     ]
    },
    {
     "name": "stderr",
     "output_type": "stream",
     "text": [
      "  1%|          | 1/100 [00:12<20:02, 12.14s/it]"
     ]
    },
    {
     "name": "stdout",
     "output_type": "stream",
     "text": [
      "['3,794h', 'Play', 'Time']\n"
     ]
    },
    {
     "name": "stderr",
     "output_type": "stream",
     "text": [
      "  2%|▏         | 2/100 [00:23<19:03, 11.67s/it]"
     ]
    },
    {
     "name": "stdout",
     "output_type": "stream",
     "text": [
      "['6,357h', 'Play', 'Time']\n"
     ]
    },
    {
     "name": "stderr",
     "output_type": "stream",
     "text": [
      "  3%|▎         | 3/100 [00:35<19:27, 12.04s/it]"
     ]
    },
    {
     "name": "stdout",
     "output_type": "stream",
     "text": [
      "['6,314h', 'Play', 'Time']\n"
     ]
    },
    {
     "name": "stderr",
     "output_type": "stream",
     "text": [
      "  4%|▍         | 4/100 [00:48<19:35, 12.25s/it]"
     ]
    },
    {
     "name": "stdout",
     "output_type": "stream",
     "text": [
      "['5,450h', 'Play', 'Time']\n"
     ]
    },
    {
     "name": "stderr",
     "output_type": "stream",
     "text": [
      "  5%|▌         | 5/100 [01:00<19:16, 12.17s/it]"
     ]
    },
    {
     "name": "stdout",
     "output_type": "stream",
     "text": [
      "['5,272h', 'Play', 'Time']\n"
     ]
    },
    {
     "name": "stderr",
     "output_type": "stream",
     "text": [
      "  6%|▌         | 6/100 [01:13<19:14, 12.29s/it]"
     ]
    },
    {
     "name": "stdout",
     "output_type": "stream",
     "text": [
      "['6,626h', 'Play', 'Time']\n"
     ]
    },
    {
     "name": "stderr",
     "output_type": "stream",
     "text": [
      "  7%|▋         | 7/100 [01:25<18:57, 12.23s/it]"
     ]
    },
    {
     "name": "stdout",
     "output_type": "stream",
     "text": [
      "['5,921h', 'Play', 'Time']\n"
     ]
    },
    {
     "name": "stderr",
     "output_type": "stream",
     "text": [
      "  8%|▊         | 8/100 [01:37<18:43, 12.21s/it]"
     ]
    },
    {
     "name": "stdout",
     "output_type": "stream",
     "text": [
      "['4,375h', 'Play', 'Time']\n"
     ]
    },
    {
     "name": "stderr",
     "output_type": "stream",
     "text": [
      "  9%|▉         | 9/100 [01:50<18:49, 12.42s/it]"
     ]
    },
    {
     "name": "stdout",
     "output_type": "stream",
     "text": [
      "['4,770h', 'Play', 'Time']\n"
     ]
    },
    {
     "name": "stderr",
     "output_type": "stream",
     "text": [
      " 10%|█         | 10/100 [02:02<18:25, 12.28s/it]"
     ]
    },
    {
     "name": "stdout",
     "output_type": "stream",
     "text": [
      "['5,873h', 'Play', 'Time']\n"
     ]
    },
    {
     "name": "stderr",
     "output_type": "stream",
     "text": [
      " 11%|█         | 11/100 [02:15<18:31, 12.49s/it]"
     ]
    },
    {
     "name": "stdout",
     "output_type": "stream",
     "text": [
      "['3,267h', 'Play', 'Time']\n"
     ]
    },
    {
     "name": "stderr",
     "output_type": "stream",
     "text": [
      " 12%|█▏        | 12/100 [02:27<18:13, 12.43s/it]"
     ]
    },
    {
     "name": "stdout",
     "output_type": "stream",
     "text": [
      "['4,140h', 'Play', 'Time']\n"
     ]
    },
    {
     "name": "stderr",
     "output_type": "stream",
     "text": [
      " 13%|█▎        | 13/100 [02:39<17:55, 12.36s/it]"
     ]
    },
    {
     "name": "stdout",
     "output_type": "stream",
     "text": [
      "['3,908h', 'Play', 'Time']\n"
     ]
    },
    {
     "name": "stderr",
     "output_type": "stream",
     "text": [
      " 14%|█▍        | 14/100 [02:52<17:42, 12.35s/it]"
     ]
    },
    {
     "name": "stdout",
     "output_type": "stream",
     "text": [
      "['5,545h', 'Play', 'Time']\n"
     ]
    },
    {
     "name": "stderr",
     "output_type": "stream",
     "text": [
      " 15%|█▌        | 15/100 [03:04<17:38, 12.46s/it]"
     ]
    },
    {
     "name": "stdout",
     "output_type": "stream",
     "text": [
      "['5,824h', 'Play', 'Time']\n"
     ]
    },
    {
     "name": "stderr",
     "output_type": "stream",
     "text": [
      " 16%|█▌        | 16/100 [03:16<17:13, 12.30s/it]"
     ]
    },
    {
     "name": "stdout",
     "output_type": "stream",
     "text": [
      "['5,831h', 'Play', 'Time']\n"
     ]
    },
    {
     "name": "stderr",
     "output_type": "stream",
     "text": [
      " 17%|█▋        | 17/100 [03:29<17:12, 12.44s/it]"
     ]
    },
    {
     "name": "stdout",
     "output_type": "stream",
     "text": [
      "['5,497h', 'Play', 'Time']\n"
     ]
    },
    {
     "name": "stderr",
     "output_type": "stream",
     "text": [
      " 18%|█▊        | 18/100 [03:40<16:30, 12.08s/it]"
     ]
    },
    {
     "name": "stdout",
     "output_type": "stream",
     "text": [
      "['5,111h', 'Play', 'Time']\n"
     ]
    },
    {
     "name": "stderr",
     "output_type": "stream",
     "text": [
      " 19%|█▉        | 19/100 [03:53<16:29, 12.21s/it]"
     ]
    },
    {
     "name": "stdout",
     "output_type": "stream",
     "text": [
      "['4,668h', 'Play', 'Time']\n"
     ]
    },
    {
     "name": "stderr",
     "output_type": "stream",
     "text": [
      " 20%|██        | 20/100 [04:05<16:12, 12.16s/it]"
     ]
    },
    {
     "name": "stdout",
     "output_type": "stream",
     "text": [
      "['4,595h', 'Play', 'Time']\n"
     ]
    },
    {
     "name": "stderr",
     "output_type": "stream",
     "text": [
      " 21%|██        | 21/100 [04:17<16:06, 12.23s/it]"
     ]
    },
    {
     "name": "stdout",
     "output_type": "stream",
     "text": [
      "['4,952h', 'Play', 'Time']\n"
     ]
    },
    {
     "name": "stderr",
     "output_type": "stream",
     "text": [
      " 22%|██▏       | 22/100 [04:30<16:20, 12.57s/it]"
     ]
    },
    {
     "name": "stdout",
     "output_type": "stream",
     "text": [
      "['3,811h', 'Play', 'Time']\n"
     ]
    },
    {
     "name": "stderr",
     "output_type": "stream",
     "text": [
      " 23%|██▎       | 23/100 [04:43<16:16, 12.68s/it]"
     ]
    },
    {
     "name": "stdout",
     "output_type": "stream",
     "text": [
      "['3,842h', 'Play', 'Time']\n"
     ]
    },
    {
     "name": "stderr",
     "output_type": "stream",
     "text": [
      " 24%|██▍       | 24/100 [04:57<16:21, 12.91s/it]"
     ]
    },
    {
     "name": "stdout",
     "output_type": "stream",
     "text": [
      "['4,108h', 'Play', 'Time']\n"
     ]
    },
    {
     "name": "stderr",
     "output_type": "stream",
     "text": [
      " 25%|██▌       | 25/100 [05:09<16:01, 12.82s/it]"
     ]
    },
    {
     "name": "stdout",
     "output_type": "stream",
     "text": [
      "['4,391h', 'Play', 'Time']\n"
     ]
    },
    {
     "name": "stderr",
     "output_type": "stream",
     "text": [
      " 26%|██▌       | 26/100 [05:23<15:54, 12.90s/it]"
     ]
    },
    {
     "name": "stdout",
     "output_type": "stream",
     "text": [
      "['5,126h', 'Play', 'Time']\n"
     ]
    },
    {
     "name": "stderr",
     "output_type": "stream",
     "text": [
      " 27%|██▋       | 27/100 [05:35<15:38, 12.85s/it]"
     ]
    },
    {
     "name": "stdout",
     "output_type": "stream",
     "text": [
      "['4,850h', 'Play', 'Time']\n"
     ]
    },
    {
     "name": "stderr",
     "output_type": "stream",
     "text": [
      " 28%|██▊       | 28/100 [05:52<16:58, 14.15s/it]"
     ]
    },
    {
     "name": "stdout",
     "output_type": "stream",
     "text": [
      "['3,138h', 'Play', 'Time']\n"
     ]
    },
    {
     "name": "stderr",
     "output_type": "stream",
     "text": [
      " 29%|██▉       | 29/100 [06:06<16:41, 14.11s/it]"
     ]
    },
    {
     "name": "stdout",
     "output_type": "stream",
     "text": [
      "['5,247h', 'Play', 'Time']\n"
     ]
    },
    {
     "name": "stderr",
     "output_type": "stream",
     "text": [
      " 30%|███       | 30/100 [06:20<16:19, 14.00s/it]"
     ]
    },
    {
     "name": "stdout",
     "output_type": "stream",
     "text": [
      "['5,416h', 'Play', 'Time']\n"
     ]
    },
    {
     "name": "stderr",
     "output_type": "stream",
     "text": [
      " 31%|███       | 31/100 [06:34<16:00, 13.93s/it]"
     ]
    },
    {
     "name": "stdout",
     "output_type": "stream",
     "text": [
      "['4,044h', 'Play', 'Time']\n"
     ]
    },
    {
     "name": "stderr",
     "output_type": "stream",
     "text": [
      " 32%|███▏      | 32/100 [06:47<15:33, 13.72s/it]"
     ]
    },
    {
     "name": "stdout",
     "output_type": "stream",
     "text": [
      "['3,940h', 'Play', 'Time']\n"
     ]
    },
    {
     "name": "stderr",
     "output_type": "stream",
     "text": [
      " 33%|███▎      | 33/100 [07:01<15:15, 13.67s/it]"
     ]
    },
    {
     "name": "stdout",
     "output_type": "stream",
     "text": [
      "['7,415h', 'Play', 'Time']\n"
     ]
    },
    {
     "name": "stderr",
     "output_type": "stream",
     "text": [
      " 34%|███▍      | 34/100 [07:14<15:01, 13.66s/it]"
     ]
    },
    {
     "name": "stdout",
     "output_type": "stream",
     "text": [
      "['4,718h', 'Play', 'Time']\n"
     ]
    },
    {
     "name": "stderr",
     "output_type": "stream",
     "text": [
      " 35%|███▌      | 35/100 [07:26<14:06, 13.03s/it]"
     ]
    },
    {
     "name": "stdout",
     "output_type": "stream",
     "text": [
      "['5,522h', 'Play', 'Time']\n"
     ]
    },
    {
     "name": "stderr",
     "output_type": "stream",
     "text": [
      " 36%|███▌      | 36/100 [07:41<14:25, 13.52s/it]"
     ]
    },
    {
     "name": "stdout",
     "output_type": "stream",
     "text": [
      "['5,920h', 'Play', 'Time']\n"
     ]
    },
    {
     "name": "stderr",
     "output_type": "stream",
     "text": [
      " 37%|███▋      | 37/100 [07:54<14:06, 13.44s/it]"
     ]
    },
    {
     "name": "stdout",
     "output_type": "stream",
     "text": [
      "['4,113h', 'Play', 'Time']\n"
     ]
    },
    {
     "name": "stderr",
     "output_type": "stream",
     "text": [
      " 38%|███▊      | 38/100 [08:07<13:45, 13.31s/it]"
     ]
    },
    {
     "name": "stdout",
     "output_type": "stream",
     "text": [
      "['3,814h', 'Play', 'Time']\n"
     ]
    },
    {
     "name": "stderr",
     "output_type": "stream",
     "text": [
      " 39%|███▉      | 39/100 [08:20<13:34, 13.35s/it]"
     ]
    },
    {
     "name": "stdout",
     "output_type": "stream",
     "text": [
      "['3,909h', 'Play', 'Time']\n"
     ]
    },
    {
     "name": "stderr",
     "output_type": "stream",
     "text": [
      " 40%|████      | 40/100 [08:34<13:22, 13.37s/it]"
     ]
    },
    {
     "name": "stdout",
     "output_type": "stream",
     "text": [
      "['3,931h', 'Play', 'Time']\n"
     ]
    },
    {
     "name": "stderr",
     "output_type": "stream",
     "text": [
      " 41%|████      | 41/100 [08:46<12:40, 12.89s/it]"
     ]
    },
    {
     "name": "stdout",
     "output_type": "stream",
     "text": [
      "['4,283h', 'Play', 'Time']\n"
     ]
    },
    {
     "name": "stderr",
     "output_type": "stream",
     "text": [
      " 42%|████▏     | 42/100 [08:59<12:37, 13.06s/it]"
     ]
    },
    {
     "name": "stdout",
     "output_type": "stream",
     "text": [
      "['3,693h', 'Play', 'Time']\n"
     ]
    },
    {
     "name": "stderr",
     "output_type": "stream",
     "text": [
      " 43%|████▎     | 43/100 [09:10<11:58, 12.60s/it]"
     ]
    },
    {
     "name": "stdout",
     "output_type": "stream",
     "text": [
      "['7,035h', 'Play', 'Time']\n"
     ]
    },
    {
     "name": "stderr",
     "output_type": "stream",
     "text": [
      " 44%|████▍     | 44/100 [09:24<11:57, 12.81s/it]"
     ]
    },
    {
     "name": "stdout",
     "output_type": "stream",
     "text": [
      "['2,739h', 'Play', 'Time']\n"
     ]
    },
    {
     "name": "stderr",
     "output_type": "stream",
     "text": [
      " 45%|████▌     | 45/100 [09:37<11:56, 13.02s/it]"
     ]
    },
    {
     "name": "stdout",
     "output_type": "stream",
     "text": [
      "['2,878h', 'Play', 'Time']\n"
     ]
    },
    {
     "name": "stderr",
     "output_type": "stream",
     "text": [
      " 46%|████▌     | 46/100 [09:49<11:22, 12.63s/it]"
     ]
    },
    {
     "name": "stdout",
     "output_type": "stream",
     "text": [
      "['3,923h', 'Play', 'Time']\n"
     ]
    },
    {
     "name": "stderr",
     "output_type": "stream",
     "text": [
      " 47%|████▋     | 47/100 [10:01<10:54, 12.34s/it]"
     ]
    },
    {
     "name": "stdout",
     "output_type": "stream",
     "text": [
      "['3,206h', 'Play', 'Time']\n"
     ]
    },
    {
     "name": "stderr",
     "output_type": "stream",
     "text": [
      " 48%|████▊     | 48/100 [10:12<10:29, 12.10s/it]"
     ]
    },
    {
     "name": "stdout",
     "output_type": "stream",
     "text": [
      "['3,632h', 'Play', 'Time']\n"
     ]
    },
    {
     "name": "stderr",
     "output_type": "stream",
     "text": [
      " 49%|████▉     | 49/100 [10:25<10:31, 12.39s/it]"
     ]
    },
    {
     "name": "stdout",
     "output_type": "stream",
     "text": [
      "['5,458h', 'Play', 'Time']\n"
     ]
    },
    {
     "name": "stderr",
     "output_type": "stream",
     "text": [
      " 50%|█████     | 50/100 [10:39<10:34, 12.68s/it]"
     ]
    },
    {
     "name": "stdout",
     "output_type": "stream",
     "text": [
      "['4,407h', 'Play', 'Time']\n"
     ]
    },
    {
     "name": "stderr",
     "output_type": "stream",
     "text": [
      " 51%|█████     | 51/100 [10:52<10:31, 12.89s/it]"
     ]
    },
    {
     "name": "stdout",
     "output_type": "stream",
     "text": [
      "['4,495h', 'Play', 'Time']\n"
     ]
    },
    {
     "name": "stderr",
     "output_type": "stream",
     "text": [
      " 52%|█████▏    | 52/100 [11:04<10:03, 12.57s/it]"
     ]
    },
    {
     "name": "stdout",
     "output_type": "stream",
     "text": [
      "['2,806h', 'Play', 'Time']\n"
     ]
    },
    {
     "name": "stderr",
     "output_type": "stream",
     "text": [
      " 53%|█████▎    | 53/100 [11:17<09:59, 12.75s/it]"
     ]
    },
    {
     "name": "stdout",
     "output_type": "stream",
     "text": [
      "['5,051h', 'Play', 'Time']\n"
     ]
    },
    {
     "name": "stderr",
     "output_type": "stream",
     "text": [
      " 54%|█████▍    | 54/100 [11:30<09:53, 12.90s/it]"
     ]
    },
    {
     "name": "stdout",
     "output_type": "stream",
     "text": [
      "['2,746h', 'Play', 'Time']\n"
     ]
    },
    {
     "name": "stderr",
     "output_type": "stream",
     "text": [
      " 55%|█████▌    | 55/100 [11:43<09:39, 12.88s/it]"
     ]
    },
    {
     "name": "stdout",
     "output_type": "stream",
     "text": [
      "['3,412h', 'Play', 'Time']\n"
     ]
    },
    {
     "name": "stderr",
     "output_type": "stream",
     "text": [
      " 56%|█████▌    | 56/100 [11:55<09:13, 12.59s/it]"
     ]
    },
    {
     "name": "stdout",
     "output_type": "stream",
     "text": [
      "['4,811h', 'Play', 'Time']\n"
     ]
    },
    {
     "name": "stderr",
     "output_type": "stream",
     "text": [
      " 57%|█████▋    | 57/100 [12:14<09:14, 12.89s/it]\n"
     ]
    },
    {
     "ename": "IndexError",
     "evalue": "list index out of range",
     "output_type": "error",
     "traceback": [
      "\u001b[1;31m---------------------------------------------------------------------------\u001b[0m",
      "\u001b[1;31mIndexError\u001b[0m                                Traceback (most recent call last)",
      "\u001b[1;32mc:\\Users\\Patrick\\Documents\\worth_keeping\\bfv_players\\Battlefield_players\\bfv_players.ipynb Cell 29\u001b[0m in \u001b[0;36m<cell line: 12>\u001b[1;34m()\u001b[0m\n\u001b[0;32m      <a href='vscode-notebook-cell:/c%3A/Users/Patrick/Documents/worth_keeping/bfv_players/Battlefield_players/bfv_players.ipynb#X65sZmlsZQ%3D%3D?line=8'>9</a>\u001b[0m     stat_dict \u001b[39m=\u001b[39m parse_profiles(stat_dict)\n\u001b[0;32m     <a href='vscode-notebook-cell:/c%3A/Users/Patrick/Documents/worth_keeping/bfv_players/Battlefield_players/bfv_players.ipynb#X65sZmlsZQ%3D%3D?line=9'>10</a>\u001b[0m     \u001b[39mreturn\u001b[39;00m stat_dict\n\u001b[1;32m---> <a href='vscode-notebook-cell:/c%3A/Users/Patrick/Documents/worth_keeping/bfv_players/Battlefield_players/bfv_players.ipynb#X65sZmlsZQ%3D%3D?line=11'>12</a>\u001b[0m parse_leaderboard_page_and_profiles(base_url, stat_dict)\n",
      "\u001b[1;32mc:\\Users\\Patrick\\Documents\\worth_keeping\\bfv_players\\Battlefield_players\\bfv_players.ipynb Cell 29\u001b[0m in \u001b[0;36mparse_leaderboard_page_and_profiles\u001b[1;34m(leaderboard_url, stat_dict)\u001b[0m\n\u001b[0;32m      <a href='vscode-notebook-cell:/c%3A/Users/Patrick/Documents/worth_keeping/bfv_players/Battlefield_players/bfv_players.ipynb#X65sZmlsZQ%3D%3D?line=5'>6</a>\u001b[0m stat_dict \u001b[39m=\u001b[39m parse_leaderboard_page(base_url, stat_dict)\n\u001b[0;32m      <a href='vscode-notebook-cell:/c%3A/Users/Patrick/Documents/worth_keeping/bfv_players/Battlefield_players/bfv_players.ipynb#X65sZmlsZQ%3D%3D?line=7'>8</a>\u001b[0m \u001b[39m# get info from profiles\u001b[39;00m\n\u001b[1;32m----> <a href='vscode-notebook-cell:/c%3A/Users/Patrick/Documents/worth_keeping/bfv_players/Battlefield_players/bfv_players.ipynb#X65sZmlsZQ%3D%3D?line=8'>9</a>\u001b[0m stat_dict \u001b[39m=\u001b[39m parse_profiles(stat_dict)\n\u001b[0;32m     <a href='vscode-notebook-cell:/c%3A/Users/Patrick/Documents/worth_keeping/bfv_players/Battlefield_players/bfv_players.ipynb#X65sZmlsZQ%3D%3D?line=9'>10</a>\u001b[0m \u001b[39mreturn\u001b[39;00m stat_dict\n",
      "\u001b[1;32mc:\\Users\\Patrick\\Documents\\worth_keeping\\bfv_players\\Battlefield_players\\bfv_players.ipynb Cell 29\u001b[0m in \u001b[0;36mparse_profiles\u001b[1;34m(stat_dict)\u001b[0m\n\u001b[0;32m     <a href='vscode-notebook-cell:/c%3A/Users/Patrick/Documents/worth_keeping/bfv_players/Battlefield_players/bfv_players.ipynb#X65sZmlsZQ%3D%3D?line=20'>21</a>\u001b[0m profile_soup \u001b[39m=\u001b[39m get_profile_page(profile_url)\n\u001b[0;32m     <a href='vscode-notebook-cell:/c%3A/Users/Patrick/Documents/worth_keeping/bfv_players/Battlefield_players/bfv_players.ipynb#X65sZmlsZQ%3D%3D?line=22'>23</a>\u001b[0m \u001b[39m# Get the player's overall stats\u001b[39;00m\n\u001b[1;32m---> <a href='vscode-notebook-cell:/c%3A/Users/Patrick/Documents/worth_keeping/bfv_players/Battlefield_players/bfv_players.ipynb#X65sZmlsZQ%3D%3D?line=23'>24</a>\u001b[0m stat_dict \u001b[39m=\u001b[39m get_player_lifetime_stats(profile_soup, stat_dict)\n\u001b[0;32m     <a href='vscode-notebook-cell:/c%3A/Users/Patrick/Documents/worth_keeping/bfv_players/Battlefield_players/bfv_players.ipynb#X65sZmlsZQ%3D%3D?line=25'>26</a>\u001b[0m \u001b[39m# Get the player's class stats\u001b[39;00m\n\u001b[0;32m     <a href='vscode-notebook-cell:/c%3A/Users/Patrick/Documents/worth_keeping/bfv_players/Battlefield_players/bfv_players.ipynb#X65sZmlsZQ%3D%3D?line=26'>27</a>\u001b[0m stat_dict \u001b[39m=\u001b[39m get_player_class_stats(profile_soup, stat_dict)\n",
      "\u001b[1;32mc:\\Users\\Patrick\\Documents\\worth_keeping\\bfv_players\\Battlefield_players\\bfv_players.ipynb Cell 29\u001b[0m in \u001b[0;36mget_player_lifetime_stats\u001b[1;34m(profile_soup, stat_dict)\u001b[0m\n\u001b[0;32m      <a href='vscode-notebook-cell:/c%3A/Users/Patrick/Documents/worth_keeping/bfv_players/Battlefield_players/bfv_players.ipynb#X65sZmlsZQ%3D%3D?line=0'>1</a>\u001b[0m \u001b[39mdef\u001b[39;00m \u001b[39mget_player_lifetime_stats\u001b[39m(profile_soup, stat_dict):\n\u001b[0;32m      <a href='vscode-notebook-cell:/c%3A/Users/Patrick/Documents/worth_keeping/bfv_players/Battlefield_players/bfv_players.ipynb#X65sZmlsZQ%3D%3D?line=1'>2</a>\u001b[0m     \u001b[39m# Collect lifetime stats for a player\u001b[39;00m\n\u001b[0;32m      <a href='vscode-notebook-cell:/c%3A/Users/Patrick/Documents/worth_keeping/bfv_players/Battlefield_players/bfv_players.ipynb#X65sZmlsZQ%3D%3D?line=2'>3</a>\u001b[0m     \u001b[39m# Get lifetime hours played across all classes\u001b[39;00m\n\u001b[1;32m----> <a href='vscode-notebook-cell:/c%3A/Users/Patrick/Documents/worth_keeping/bfv_players/Battlefield_players/bfv_players.ipynb#X65sZmlsZQ%3D%3D?line=3'>4</a>\u001b[0m     \u001b[39mprint\u001b[39m(profile_soup\u001b[39m.\u001b[39;49mselect(\u001b[39m'\u001b[39;49m\u001b[39mspan.playtime\u001b[39;49m\u001b[39m'\u001b[39;49m)[\u001b[39m0\u001b[39;49m]\u001b[39m.\u001b[39mtext\u001b[39m.\u001b[39mstrip()\u001b[39m.\u001b[39msplit(\u001b[39m'\u001b[39m\u001b[39m \u001b[39m\u001b[39m'\u001b[39m))\n\u001b[0;32m      <a href='vscode-notebook-cell:/c%3A/Users/Patrick/Documents/worth_keeping/bfv_players/Battlefield_players/bfv_players.ipynb#X65sZmlsZQ%3D%3D?line=4'>5</a>\u001b[0m     lifetime_hours \u001b[39m=\u001b[39m \u001b[39mfloat\u001b[39m(profile_soup\u001b[39m.\u001b[39mselect(\u001b[39m'\u001b[39m\u001b[39mspan.playtime\u001b[39m\u001b[39m'\u001b[39m)[\u001b[39m0\u001b[39m]\u001b[39m.\u001b[39mtext\u001b[39m.\u001b[39mstrip()\u001b[39m.\u001b[39msplit(\u001b[39m'\u001b[39m\u001b[39m \u001b[39m\u001b[39m'\u001b[39m)[\u001b[39m0\u001b[39m][:\u001b[39m-\u001b[39m\u001b[39m1\u001b[39m]\u001b[39m.\u001b[39mreplace(\u001b[39m'\u001b[39m\u001b[39m,\u001b[39m\u001b[39m'\u001b[39m, \u001b[39m'\u001b[39m\u001b[39m'\u001b[39m))\n\u001b[0;32m      <a href='vscode-notebook-cell:/c%3A/Users/Patrick/Documents/worth_keeping/bfv_players/Battlefield_players/bfv_players.ipynb#X65sZmlsZQ%3D%3D?line=5'>6</a>\u001b[0m     \u001b[39mif\u001b[39;00m \u001b[39m'\u001b[39m\u001b[39mlifetime_hours\u001b[39m\u001b[39m'\u001b[39m \u001b[39min\u001b[39;00m stat_dict:\n",
      "\u001b[1;31mIndexError\u001b[0m: list index out of range"
     ]
    }
   ],
   "source": [
    "base_url = 'https://battlefieldtracker.com/bfv/leaderboards/stats/all/Wins?type=stats&page=1'\n",
    "stat_dict = {'Rank': [], 'Username':[], 'Platform':[], 'Wins':[], 'Rounds Played':[], 'Profile':[]}\n",
    "\n",
    "def parse_leaderboard_page_and_profiles(leaderboard_url, stat_dict):\n",
    "    # Get basic leaderboard info\n",
    "    stat_dict = parse_leaderboard_page(base_url, stat_dict)\n",
    "\n",
    "    # get info from profiles\n",
    "    stat_dict = parse_profiles(stat_dict)\n",
    "    return stat_dict\n",
    "\n",
    "parse_leaderboard_page_and_profiles(base_url, stat_dict)"
   ]
  },
  {
   "cell_type": "code",
   "execution_count": null,
   "metadata": {},
   "outputs": [
    {
     "data": {
      "text/plain": [
       "6.333333333333333"
      ]
     },
     "execution_count": 159,
     "metadata": {},
     "output_type": "execute_result"
    }
   ],
   "source": [
    "time_played = '6h 20'\n",
    "time_played = time_played.split(' ')\n",
    "time_played = float(time_played[0][:-1]) * 60 + float(time_played[1])\n",
    "time_played /= 60\n",
    "time_played"
   ]
  },
  {
   "cell_type": "markdown",
   "metadata": {},
   "source": [
    "# Find Number of Leaderboard Page\n",
    "I did not know how many pages the leaderboard has. Candidly, I found this out manually through trial and error, which only took a couple of minutes. There are 791.\n",
    "\n",
    "You could do this programmatically, but given it is polite to wait in between sending requests to servers, this would take longer.\n",
    "\n",
    "A potential programatic approach could go as follows: each leaderboard url ends in a page number. Call this i. You could increase i in increasingly larger step sizes until you no longer load pages with HTML in the form expected. Then I could be decreased in increasingly larger step size until it loaded a page with increasingly larger step sizes until it found a page of the form desired. This could be repeated until it converged on the last page. This is only one fairly naive approach. Generally, it's a search through a sequence of integers that is unbounded on one side."
   ]
  }
 ],
 "metadata": {
  "kernelspec": {
   "display_name": "Python 3.10.2 64-bit",
   "language": "python",
   "name": "python3"
  },
  "language_info": {
   "codemirror_mode": {
    "name": "ipython",
    "version": 3
   },
   "file_extension": ".py",
   "mimetype": "text/x-python",
   "name": "python",
   "nbconvert_exporter": "python",
   "pygments_lexer": "ipython3",
   "version": "3.10.2"
  },
  "orig_nbformat": 4,
  "vscode": {
   "interpreter": {
    "hash": "369f2c481f4da34e4445cda3fffd2e751bd1c4d706f27375911949ba6bb62e1c"
   }
  }
 },
 "nbformat": 4,
 "nbformat_minor": 2
}
